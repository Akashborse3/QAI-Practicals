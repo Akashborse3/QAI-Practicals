{
 "cells": [
  {
   "cell_type": "markdown",
   "id": "97609154",
   "metadata": {},
   "source": [
    "#                                   QAI Assignment-1\n",
    "\n",
    "## Implementations of 16 Qubit Random Number Generator"
   ]
  },
  {
   "cell_type": "code",
   "execution_count": 2,
   "id": "d1180a0a",
   "metadata": {},
   "outputs": [
    {
     "name": "stdout",
     "output_type": "stream",
     "text": [
      "Collecting qiskit\n",
      "  Downloading qiskit-0.45.0-py3-none-any.whl (9.6 kB)\n",
      "Collecting qiskit-terra==0.45.0\n",
      "  Downloading qiskit_terra-0.45.0-cp38-abi3-win_amd64.whl (5.1 MB)Note: you may need to restart the kernel to use updated packages.\n",
      "\n",
      "Collecting dill>=0.3\n",
      "  Downloading dill-0.3.7-py3-none-any.whl (115 kB)\n",
      "Requirement already satisfied: ply>=3.10 in c:\\anaconda\\lib\\site-packages (from qiskit-terra==0.45.0->qiskit) (3.11)\n",
      "Requirement already satisfied: typing-extensions in c:\\users\\akash borse\\appdata\\roaming\\python\\python38\\site-packages (from qiskit-terra==0.45.0->qiskit) (4.5.0)\n",
      "Requirement already satisfied: python-dateutil>=2.8.0 in c:\\anaconda\\lib\\site-packages (from qiskit-terra==0.45.0->qiskit) (2.8.1)\n",
      "Requirement already satisfied: numpy<2,>=1.17 in c:\\anaconda\\lib\\site-packages (from qiskit-terra==0.45.0->qiskit) (1.22.4)\n",
      "Collecting rustworkx>=0.13.0\n",
      "  Downloading rustworkx-0.13.2-cp38-cp38-win_amd64.whl (1.4 MB)\n",
      "Requirement already satisfied: sympy>=1.3 in c:\\anaconda\\lib\\site-packages (from qiskit-terra==0.45.0->qiskit) (1.8)\n",
      "Requirement already satisfied: psutil>=5 in c:\\anaconda\\lib\\site-packages (from qiskit-terra==0.45.0->qiskit) (5.8.0)\n",
      "Collecting stevedore>=3.0.0\n",
      "  Downloading stevedore-5.1.0-py3-none-any.whl (49 kB)\n",
      "Requirement already satisfied: scipy>=1.5 in c:\\anaconda\\lib\\site-packages (from qiskit-terra==0.45.0->qiskit) (1.6.2)\n",
      "Requirement already satisfied: six>=1.5 in c:\\anaconda\\lib\\site-packages (from python-dateutil>=2.8.0->qiskit-terra==0.45.0->qiskit) (1.15.0)\n",
      "Collecting pbr!=2.1.0,>=2.0.0\n",
      "  Downloading pbr-5.11.1-py2.py3-none-any.whl (112 kB)\n",
      "Requirement already satisfied: mpmath>=0.19 in c:\\anaconda\\lib\\site-packages (from sympy>=1.3->qiskit-terra==0.45.0->qiskit) (1.2.1)\n",
      "Installing collected packages: pbr, stevedore, rustworkx, dill, qiskit-terra, qiskit\n",
      "Successfully installed dill-0.3.7 pbr-5.11.1 qiskit-0.45.0 qiskit-terra-0.45.0 rustworkx-0.13.2 stevedore-5.1.0\n"
     ]
    }
   ],
   "source": [
    "pip install qiskit"
   ]
  },
  {
   "cell_type": "code",
   "execution_count": 4,
   "id": "97ab5b47",
   "metadata": {},
   "outputs": [
    {
     "name": "stdout",
     "output_type": "stream",
     "text": [
      "Collecting qiskit-aer\n",
      "  Downloading qiskit_aer-0.13.0-cp38-cp38-win_amd64.whl (9.5 MB)\n",
      "Requirement already satisfied: scipy>=1.0 in c:\\anaconda\\lib\\site-packages (from qiskit-aer) (1.6.2)\n",
      "Requirement already satisfied: numpy>=1.16.3 in c:\\anaconda\\lib\\site-packages (from qiskit-aer) (1.22.4)\n",
      "Requirement already satisfied: qiskit>=0.44.0 in c:\\anaconda\\lib\\site-packages (from qiskit-aer) (0.45.0)\n",
      "Requirement already satisfied: qiskit-terra==0.45.0 in c:\\anaconda\\lib\\site-packages (from qiskit>=0.44.0->qiskit-aer) (0.45.0)\n",
      "Requirement already satisfied: rustworkx>=0.13.0 in c:\\anaconda\\lib\\site-packages (from qiskit-terra==0.45.0->qiskit>=0.44.0->qiskit-aer) (0.13.2)\n",
      "Requirement already satisfied: stevedore>=3.0.0 in c:\\anaconda\\lib\\site-packages (from qiskit-terra==0.45.0->qiskit>=0.44.0->qiskit-aer) (5.1.0)\n",
      "Requirement already satisfied: sympy>=1.3 in c:\\anaconda\\lib\\site-packages (from qiskit-terra==0.45.0->qiskit>=0.44.0->qiskit-aer) (1.8)\n",
      "Requirement already satisfied: dill>=0.3 in c:\\anaconda\\lib\\site-packages (from qiskit-terra==0.45.0->qiskit>=0.44.0->qiskit-aer) (0.3.7)\n",
      "Requirement already satisfied: python-dateutil>=2.8.0 in c:\\anaconda\\lib\\site-packages (from qiskit-terra==0.45.0->qiskit>=0.44.0->qiskit-aer) (2.8.1)\n",
      "Requirement already satisfied: typing-extensions in c:\\users\\akash borse\\appdata\\roaming\\python\\python38\\site-packages (from qiskit-terra==0.45.0->qiskit>=0.44.0->qiskit-aer) (4.5.0)\n",
      "Requirement already satisfied: ply>=3.10 in c:\\anaconda\\lib\\site-packages (from qiskit-terra==0.45.0->qiskit>=0.44.0->qiskit-aer) (3.11)\n",
      "Requirement already satisfied: psutil>=5 in c:\\anaconda\\lib\\site-packages (from qiskit-terra==0.45.0->qiskit>=0.44.0->qiskit-aer) (5.8.0)\n",
      "Requirement already satisfied: six>=1.5 in c:\\anaconda\\lib\\site-packages (from python-dateutil>=2.8.0->qiskit-terra==0.45.0->qiskit>=0.44.0->qiskit-aer) (1.15.0)\n",
      "Requirement already satisfied: pbr!=2.1.0,>=2.0.0 in c:\\anaconda\\lib\\site-packages (from stevedore>=3.0.0->qiskit-terra==0.45.0->qiskit>=0.44.0->qiskit-aer) (5.11.1)\n",
      "Requirement already satisfied: mpmath>=0.19 in c:\\anaconda\\lib\\site-packages (from sympy>=1.3->qiskit-terra==0.45.0->qiskit>=0.44.0->qiskit-aer) (1.2.1)\n",
      "Installing collected packages: qiskit-aer\n",
      "Successfully installed qiskit-aer-0.13.0\n",
      "Note: you may need to restart the kernel to use updated packages.\n"
     ]
    }
   ],
   "source": [
    "pip install qiskit-aer"
   ]
  },
  {
   "cell_type": "code",
   "execution_count": 5,
   "id": "3e15a4c4",
   "metadata": {},
   "outputs": [
    {
     "name": "stdout",
     "output_type": "stream",
     "text": [
      "Quantum Circuit:\n",
      "      ┌───┐┌─┐                                             \n",
      " q_0: ┤ H ├┤M├─────────────────────────────────────────────\n",
      "      ├───┤└╥┘┌─┐                                          \n",
      " q_1: ┤ H ├─╫─┤M├──────────────────────────────────────────\n",
      "      ├───┤ ║ └╥┘┌─┐                                       \n",
      " q_2: ┤ H ├─╫──╫─┤M├───────────────────────────────────────\n",
      "      ├───┤ ║  ║ └╥┘┌─┐                                    \n",
      " q_3: ┤ H ├─╫──╫──╫─┤M├────────────────────────────────────\n",
      "      ├───┤ ║  ║  ║ └╥┘┌─┐                                 \n",
      " q_4: ┤ H ├─╫──╫──╫──╫─┤M├─────────────────────────────────\n",
      "      ├───┤ ║  ║  ║  ║ └╥┘┌─┐                              \n",
      " q_5: ┤ H ├─╫──╫──╫──╫──╫─┤M├──────────────────────────────\n",
      "      ├───┤ ║  ║  ║  ║  ║ └╥┘┌─┐                           \n",
      " q_6: ┤ H ├─╫──╫──╫──╫──╫──╫─┤M├───────────────────────────\n",
      "      ├───┤ ║  ║  ║  ║  ║  ║ └╥┘┌─┐                        \n",
      " q_7: ┤ H ├─╫──╫──╫──╫──╫──╫──╫─┤M├────────────────────────\n",
      "      ├───┤ ║  ║  ║  ║  ║  ║  ║ └╥┘┌─┐                     \n",
      " q_8: ┤ H ├─╫──╫──╫──╫──╫──╫──╫──╫─┤M├─────────────────────\n",
      "      ├───┤ ║  ║  ║  ║  ║  ║  ║  ║ └╥┘┌─┐                  \n",
      " q_9: ┤ H ├─╫──╫──╫──╫──╫──╫──╫──╫──╫─┤M├──────────────────\n",
      "      ├───┤ ║  ║  ║  ║  ║  ║  ║  ║  ║ └╥┘┌─┐               \n",
      "q_10: ┤ H ├─╫──╫──╫──╫──╫──╫──╫──╫──╫──╫─┤M├───────────────\n",
      "      ├───┤ ║  ║  ║  ║  ║  ║  ║  ║  ║  ║ └╥┘┌─┐            \n",
      "q_11: ┤ H ├─╫──╫──╫──╫──╫──╫──╫──╫──╫──╫──╫─┤M├────────────\n",
      "      ├───┤ ║  ║  ║  ║  ║  ║  ║  ║  ║  ║  ║ └╥┘┌─┐         \n",
      "q_12: ┤ H ├─╫──╫──╫──╫──╫──╫──╫──╫──╫──╫──╫──╫─┤M├─────────\n",
      "      ├───┤ ║  ║  ║  ║  ║  ║  ║  ║  ║  ║  ║  ║ └╥┘┌─┐      \n",
      "q_13: ┤ H ├─╫──╫──╫──╫──╫──╫──╫──╫──╫──╫──╫──╫──╫─┤M├──────\n",
      "      ├───┤ ║  ║  ║  ║  ║  ║  ║  ║  ║  ║  ║  ║  ║ └╥┘┌─┐   \n",
      "q_14: ┤ H ├─╫──╫──╫──╫──╫──╫──╫──╫──╫──╫──╫──╫──╫──╫─┤M├───\n",
      "      ├───┤ ║  ║  ║  ║  ║  ║  ║  ║  ║  ║  ║  ║  ║  ║ └╥┘┌─┐\n",
      "q_15: ┤ H ├─╫──╫──╫──╫──╫──╫──╫──╫──╫──╫──╫──╫──╫──╫──╫─┤M├\n",
      "      └───┘ ║  ║  ║  ║  ║  ║  ║  ║  ║  ║  ║  ║  ║  ║  ║ └╥┘\n",
      "c: 16/══════╩══╩══╩══╩══╩══╩══╩══╩══╩══╩══╩══╩══╩══╩══╩══╩═\n",
      "            0  1  2  3  4  5  6  7  8  9  10 11 12 13 14 15\n",
      "\n",
      "Measurement Result: {'0111101010010000': 1}\n"
     ]
    }
   ],
   "source": [
    "from qiskit import QuantumRegister, ClassicalRegister, QuantumCircuit, execute, Aer\n",
    "\n",
    "# Create a 16-qubit quantum register and a classical register\n",
    "q = QuantumRegister(16, 'q')\n",
    "c = ClassicalRegister(16, 'c')\n",
    "\n",
    "# Create a quantum circuit\n",
    "circuit = QuantumCircuit(q, c)\n",
    "\n",
    "# Apply Hadamard gates to all qubits\n",
    "circuit.h(q)\n",
    "\n",
    "# Measure all qubits and store the results in classical bits\n",
    "circuit.measure(q, c)\n",
    "\n",
    "# Draw the circuit\n",
    "print(\"Quantum Circuit:\")\n",
    "print(circuit.draw())\n",
    "\n",
    "# Simulate the circuit using Aer's qasm_simulator\n",
    "simulator = Aer.get_backend('qasm_simulator')\n",
    "job = execute(circuit, simulator, shots=1)\n",
    "\n",
    "# Get the measurement result\n",
    "result = job.result()\n",
    "counts = result.get_counts(circuit)\n",
    "print(\"\\nMeasurement Result:\", counts)\n"
   ]
  },
  {
   "cell_type": "code",
   "execution_count": null,
   "id": "b25aa008",
   "metadata": {},
   "outputs": [],
   "source": []
  }
 ],
 "metadata": {
  "kernelspec": {
   "display_name": "Python 3",
   "language": "python",
   "name": "python3"
  },
  "language_info": {
   "codemirror_mode": {
    "name": "ipython",
    "version": 3
   },
   "file_extension": ".py",
   "mimetype": "text/x-python",
   "name": "python",
   "nbconvert_exporter": "python",
   "pygments_lexer": "ipython3",
   "version": "3.8.8"
  }
 },
 "nbformat": 4,
 "nbformat_minor": 5
}
