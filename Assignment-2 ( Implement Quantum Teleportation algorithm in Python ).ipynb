{
 "cells": [
  {
   "cell_type": "markdown",
   "id": "476fdab2",
   "metadata": {},
   "source": [
    "# QAI Assignment-2\n",
    "\n",
    "## Implement Quantum Teleportation algorithm in Python"
   ]
  },
  {
   "cell_type": "markdown",
   "id": "9d8b0324",
   "metadata": {},
   "source": [
    "# Circuit Building"
   ]
  },
  {
   "cell_type": "code",
   "execution_count": 1,
   "id": "86eb9411",
   "metadata": {},
   "outputs": [
    {
     "data": {
      "text/html": [
       "<pre style=\"word-wrap: normal;white-space: pre;background: #fff0;line-height: 1.1;font-family: &quot;Courier New&quot;,Courier,monospace\">     ┌───┐ ░                ┌───┐ ░ ┌─┐    ░         \n",
       "q_0: ┤ X ├─░─────────────■──┤ H ├─░─┤M├────░───────■─\n",
       "     └───┘ ░ ┌───┐     ┌─┴─┐└───┘ ░ └╥┘┌─┐ ░       │ \n",
       "q_1: ──────░─┤ H ├──■──┤ X ├──────░──╫─┤M├─░───■───┼─\n",
       "           ░ └───┘┌─┴─┐└───┘      ░  ║ └╥┘ ░ ┌─┴─┐ │ \n",
       "q_2: ──────░──────┤ X ├───────────░──╫──╫──░─┤ X ├─■─\n",
       "           ░      └───┘           ░  ║  ║  ░ └───┘   \n",
       "c: 3/════════════════════════════════╩══╩════════════\n",
       "                                     0  1            </pre>"
      ],
      "text/plain": [
       "     ┌───┐ ░                ┌───┐ ░ ┌─┐    ░         \n",
       "q_0: ┤ X ├─░─────────────■──┤ H ├─░─┤M├────░───────■─\n",
       "     └───┘ ░ ┌───┐     ┌─┴─┐└───┘ ░ └╥┘┌─┐ ░       │ \n",
       "q_1: ──────░─┤ H ├──■──┤ X ├──────░──╫─┤M├─░───■───┼─\n",
       "           ░ └───┘┌─┴─┐└───┘      ░  ║ └╥┘ ░ ┌─┴─┐ │ \n",
       "q_2: ──────░──────┤ X ├───────────░──╫──╫──░─┤ X ├─■─\n",
       "           ░      └───┘           ░  ║  ║  ░ └───┘   \n",
       "c: 3/════════════════════════════════╩══╩════════════\n",
       "                                     0  1            "
      ]
     },
     "execution_count": 1,
     "metadata": {},
     "output_type": "execute_result"
    }
   ],
   "source": [
    "from qiskit.circuit import QuantumCircuit\n",
    "circuit = QuantumCircuit(3, 3)\n",
    "circuit.x(0)\n",
    "circuit.barrier(range(3))\n",
    "circuit.h(1)\n",
    "circuit.cx(1, 2)\n",
    "circuit.cx(0, 1)\n",
    "circuit.h(0)\n",
    "circuit.barrier(range(3))\n",
    "circuit.measure(range(2), range(2))\n",
    "circuit.barrier(range(3))\n",
    "circuit.cx(1, 2)\n",
    "circuit.cz(0, 2)\n",
    "circuit.draw()\n"
   ]
  },
  {
   "cell_type": "markdown",
   "id": "24a13b0e",
   "metadata": {},
   "source": [
    "# Simulation Part"
   ]
  },
  {
   "cell_type": "code",
   "execution_count": 2,
   "id": "8f36cbcc",
   "metadata": {},
   "outputs": [],
   "source": [
    "from qiskit_aer import AerSimulator\n",
    "from qiskit import transpile"
   ]
  },
  {
   "cell_type": "code",
   "execution_count": 3,
   "id": "c601f904",
   "metadata": {},
   "outputs": [],
   "source": [
    "backend = AerSimulator()"
   ]
  },
  {
   "cell_type": "code",
   "execution_count": 4,
   "id": "94899ae1",
   "metadata": {},
   "outputs": [],
   "source": [
    "qc_compiled = transpile(circuit, backend)"
   ]
  },
  {
   "cell_type": "code",
   "execution_count": 5,
   "id": "658b649f",
   "metadata": {},
   "outputs": [],
   "source": [
    "job_sim = backend.run(qc_compiled, shots=1024)\n",
    "result_sim = job_sim.result()"
   ]
  },
  {
   "cell_type": "code",
   "execution_count": 6,
   "id": "0356daae",
   "metadata": {},
   "outputs": [
    {
     "name": "stdout",
     "output_type": "stream",
     "text": [
      "{'000': 258, '011': 237, '001': 260, '010': 269}\n"
     ]
    }
   ],
   "source": [
    "counts = result_sim.get_counts(qc_compiled)\n",
    "print(counts)"
   ]
  },
  {
   "cell_type": "code",
   "execution_count": 7,
   "id": "cd5055bb",
   "metadata": {},
   "outputs": [
    {
     "data": {
      "image/png": "[encoded data removed]",
      "text/plain": [
       "<Figure size 504x360 with 1 Axes>"
      ]
     },
     "execution_count": 7,
     "metadata": {},
     "output_type": "execute_result"
    }
   ],
   "source": [
    "from qiskit.visualization import plot_histogram\n",
    "plot_histogram(counts)"
   ]
  },
  {
   "cell_type": "code",
   "execution_count": null,
   "id": "642a4409",
   "metadata": {},
   "outputs": [],
   "source": []
  }
 ],
 "metadata": {
  "kernelspec": {
   "display_name": "Python 3",
   "language": "python",
   "name": "python3"
  },
  "language_info": {
   "codemirror_mode": {
    "name": "ipython",
    "version": 3
   },
   "file_extension": ".py",
   "mimetype": "text/x-python",
   "name": "python",
   "nbconvert_exporter": "python",
   "pygments_lexer": "ipython3",
   "version": "3.8.8"
  }
 },
 "nbformat": 4,
 "nbformat_minor": 5
}
